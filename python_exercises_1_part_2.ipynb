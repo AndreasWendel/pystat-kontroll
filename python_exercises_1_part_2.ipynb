{
 "cells": [
  {
   "cell_type": "markdown",
   "id": "22bd630d",
   "metadata": {},
   "source": [
    "# Python exercises 1 part 2/2\n",
    "The exercises are connected to the video available at: https://www.youtube.com/watch?v=M7bnYJyCx0Q from 1:02:20 to 1:14:59.\n",
    "\n",
    "When writing the solutions make sure the code is clear and readable. When providing comments, follow the general principle that you should comment \"why\" you are doing something and not \"what\", the \"what\" is seen by the code itself. "
   ]
  },
  {
   "cell_type": "markdown",
   "id": "c43aead3",
   "metadata": {},
   "source": [
    "# Classes"
   ]
  },
  {
   "cell_type": "markdown",
   "id": "a4c65db4",
   "metadata": {},
   "source": [
    "### Create a class \"GroceryStore\" with price and quantity instance attributes and then create a new instance swedish_apples whos price is 30 and quantity is 900. Once the instance is created, print out the two attributes. "
   ]
  },
  {
   "cell_type": "code",
   "execution_count": 7,
   "id": "dffff2b7",
   "metadata": {},
   "outputs": [],
   "source": [
    "class GroceryStore:\n",
    "    \n",
    "    #global variable, class variable\n",
    "    name = \"ICA\"\n",
    "    \n",
    "    def __init__(self,price,quantity):\n",
    "        self.price = price\n",
    "        self.quantity = quantity\n",
    "        "
   ]
  },
  {
   "cell_type": "code",
   "execution_count": 9,
   "id": "88e2e7a7",
   "metadata": {},
   "outputs": [],
   "source": [
    "#create instance\n",
    "swedish_apple = GroceryStore(30,900)\n",
    "banan = GroceryStore(25,1500)"
   ]
  },
  {
   "cell_type": "code",
   "execution_count": 10,
   "id": "919666c8",
   "metadata": {},
   "outputs": [
    {
     "name": "stdout",
     "output_type": "stream",
     "text": [
      "30 900\n",
      "25 1500 ICA\n"
     ]
    }
   ],
   "source": [
    "print(swedish_apple.price,swedish_apple.quantity)\n",
    "print(banan.price,banan.quantity,banan.name)"
   ]
  },
  {
   "cell_type": "markdown",
   "id": "3dbc1438",
   "metadata": {},
   "source": [
    "### Create a child class \"Subsidiarie\" that will inherit all of the variables and methods of the \"GroceryStore\" class. Then create a new instance grapes whos price is 50 and quantity is 600. Finally, print out the two  attributes.\n",
    "Hint: Use the keyword \"pass\" when creating the class Subsidiarie."
   ]
  },
  {
   "cell_type": "code",
   "execution_count": 15,
   "id": "028178bb",
   "metadata": {},
   "outputs": [
    {
     "name": "stdout",
     "output_type": "stream",
     "text": [
      "50\n",
      "600\n"
     ]
    }
   ],
   "source": [
    "class sub(GroceryStore):\n",
    "    pass\n",
    "#instance of sub class\n",
    "grapes = sub(50,600)\n",
    "print(grapes.price)\n",
    "print(grapes.quantity)"
   ]
  },
  {
   "cell_type": "markdown",
   "id": "fa5b81f5",
   "metadata": {},
   "source": [
    "### Create a child class \"Competitor\" that will inherit all of the variables and methods of the \"GroceryStore\" class. The class should have a class variable called store_name = competitor_grocery_store. Create an instance danish_apples whos price is 28 and quantity 920. Print out both the instance variables (price and quantity) and the class variable store_name."
   ]
  },
  {
   "cell_type": "code",
   "execution_count": 19,
   "id": "ea25ffa9",
   "metadata": {},
   "outputs": [
    {
     "name": "stdout",
     "output_type": "stream",
     "text": [
      "28\n",
      "920\n",
      "competitor_grocery_store\n"
     ]
    }
   ],
   "source": [
    "class Competitor(GroceryStore):\n",
    "    store_name = \"competitor_grocery_store\"\n",
    "\n",
    "danish_apples = Competitor(28,920)\n",
    "print(danish_apples.price)\n",
    "print(danish_apples.quantity)\n",
    "print(danish_apples.store_name)"
   ]
  },
  {
   "cell_type": "markdown",
   "id": "ed508ef5",
   "metadata": {},
   "source": [
    "### Create a class \"GroceryStore_v2\" with price and quantity instance attributes and a class attribute called owner with the value \"Anna\" assigned to it. Add a method, customer_satisfaction that adds an instance attribute called \"grade\"  that can take values between 1-10, how do you make sure that the grade is between 1-10? Ideally, an exception is raised if grade is outside the allowed boundaries. The class should have a one line documentation string. \n",
    "\n",
    "### Create an instance \"lemons\" with price = 60, quantity = 100. Add a customer_satisfaction_grade that is 8.\n",
    "\n",
    "### Check the type of the lemons instance.\n",
    "\n",
    "### Check if lemons is an instance of the integer class (it should return False since lemons is an instance of GroceryStore_v2). Check if lemons is an instance of the GroceryStore_v2 class (should return True).\n",
    "\n",
    "### Print out the documentation string. "
   ]
  },
  {
   "cell_type": "code",
   "execution_count": 26,
   "id": "fe373e76",
   "metadata": {},
   "outputs": [
    {
     "name": "stdout",
     "output_type": "stream",
     "text": [
      "10 anna 60 100\n",
      "<class '__main__.GroceryStore_v2'>\n",
      "False\n",
      "True\n"
     ]
    }
   ],
   "source": [
    "class GroceryStore_v2:\n",
    "    \"\"\"\n",
    "    includes owner, store items\n",
    "    and customer grading form 1-10\n",
    "    \"\"\"\n",
    "    owner = \"anna\"\n",
    "    def __init__(self,price,quantity):\n",
    "        self.price = price\n",
    "        self.quantity = quantity\n",
    "        \n",
    "    def customer_satisfaction(self,grade):\n",
    "        if not 1<= grade <= 10:\n",
    "            raise TypeError(\"only a grade between 1-10\")\n",
    "        self.grade = grade\n",
    "\n",
    "lemons = GroceryStore_v2(60,100)\n",
    "lemons.customer_satisfaction(10)\n",
    "print(lemons.grade,lemons.owner,lemons.price,lemons.quantity)\n",
    "\n",
    "print(type(lemons))\n",
    "print(isinstance(lemons,int))\n",
    "print(isinstance(lemons,GroceryStore_v2))"
   ]
  },
  {
   "cell_type": "markdown",
   "id": "ca0ae2ce",
   "metadata": {},
   "source": [
    "### Create a class Square whos instances has the attribute side_length. Add two methods, perimeter and area that calculates the perimeter and area respectively given the length of one side which is the only attribute that the class has. Create an instance my_square with the side length 8. Print out the perimeter and area of \"my_square\". "
   ]
  },
  {
   "cell_type": "code",
   "execution_count": 28,
   "id": "16cd8cd7",
   "metadata": {},
   "outputs": [
    {
     "name": "stdout",
     "output_type": "stream",
     "text": [
      "64 32 8\n"
     ]
    }
   ],
   "source": [
    "class Square:\n",
    "    def __init__(self,side_length):\n",
    "        self.length=side_length\n",
    "    \n",
    "    def area(self):\n",
    "        self.area = self.length**2\n",
    "        \n",
    "    def perimeter(self):\n",
    "        self.perimeter = self.length*4\n",
    "\n",
    "my_square = Square(8)\n",
    "my_square.area()\n",
    "my_square.perimeter()\n",
    "print(my_square.area,my_square.perimeter,my_square.length)"
   ]
  },
  {
   "cell_type": "markdown",
   "id": "f069a4a0",
   "metadata": {},
   "source": [
    "# Explain, in detail, with your own words what the \"DescriptiveStatistics\" class does."
   ]
  },
  {
   "cell_type": "code",
   "execution_count": 29,
   "id": "877dfc9b",
   "metadata": {},
   "outputs": [],
   "source": [
    "class DescriptiveStatistics():\n",
    "    \"\"\"This class provides functionality for calculating descriptive statistics from a list.\"\"\"\n",
    "    \n",
    "    def __init__(self):\n",
    "        self.data = []\n",
    "    \n",
    "    def add_data(self, data):\n",
    "        if isinstance(data, list):\n",
    "            self.data.extend(data)\n",
    "        else:\n",
    "            raise Exception('Only \"Lists\" are accepted as data.')\n",
    "            \n",
    "    def calc_sum(self):\n",
    "        return sum(self.data)\n",
    "    \n",
    "    def calc_nbr_of_elements(self):\n",
    "        return len(self.data)\n",
    "    \n",
    "    def calc_mean(self):\n",
    "        return (self.calc_sum())/(self.calc_nbr_of_elements())\n",
    "    \n",
    "    def print_summary(self):\n",
    "        print('Sum:', self.calc_sum())\n",
    "        print('Number of elements:', self.calc_nbr_of_elements())\n",
    "        print('Mean:', self.calc_mean())  \n",
    "        \n",
    "        \n",
    "#beräknar och analyserar en lista\n",
    "#self.data initiatiar datan till en instance lista\n",
    "#add data kollar så det är en lista sen lägger in data in instancen\n",
    "#calc_sum = summerar datan, calc_nbr_of_elements = kollar längden/antal index\n",
    "#calc_mean kollar medelvärde genom att summera datan och sen div med antal index\n",
    "#print_summery = presenterar datan genom att använda alla metoder"
   ]
  },
  {
   "cell_type": "code",
   "execution_count": 30,
   "id": "6257949c",
   "metadata": {},
   "outputs": [],
   "source": [
    "L = [1, 2, 1, 3, 5, 7, 4, 9, 10, 3, 2, 1, 6, 4, 3, 2, 1, 10, 9, 1, 8, 7, 3, 2, 1]\n",
    "my_data = DescriptiveStatistics()\n",
    "my_data.add_data(L)"
   ]
  },
  {
   "cell_type": "code",
   "execution_count": 31,
   "id": "2c039681",
   "metadata": {},
   "outputs": [
    {
     "data": {
      "text/plain": [
       "[1, 2, 1, 3, 5, 7, 4, 9, 10, 3, 2, 1, 6, 4, 3, 2, 1, 10, 9, 1, 8, 7, 3, 2, 1]"
      ]
     },
     "execution_count": 31,
     "metadata": {},
     "output_type": "execute_result"
    }
   ],
   "source": [
    "my_data.data"
   ]
  },
  {
   "cell_type": "code",
   "execution_count": 32,
   "id": "10f3eb3c",
   "metadata": {},
   "outputs": [
    {
     "name": "stdout",
     "output_type": "stream",
     "text": [
      "Sum: 105\n",
      "Number of elements: 25\n",
      "Mean: 4.2\n"
     ]
    }
   ],
   "source": [
    "print('Sum:', my_data.calc_sum())\n",
    "print('Number of elements:', my_data.calc_nbr_of_elements())\n",
    "print('Mean:', my_data.calc_mean())"
   ]
  },
  {
   "cell_type": "code",
   "execution_count": 33,
   "id": "f7345727",
   "metadata": {},
   "outputs": [
    {
     "name": "stdout",
     "output_type": "stream",
     "text": [
      "Sum: 105\n",
      "Number of elements: 25\n",
      "Mean: 4.2\n"
     ]
    }
   ],
   "source": [
    "my_data.print_summary()"
   ]
  },
  {
   "cell_type": "markdown",
   "id": "a55a2e6b",
   "metadata": {},
   "source": [
    "# Exceptions\n",
    "In the video: https://www.youtube.com/watch?v=M7bnYJyCx0Q from 1:09:18 to 1:14:59 Exceptions is covered. Now you shall explain: \n",
    "1. In your own words describe why catching exceptions can be useful.\n",
    "2. Create an example where you *catch* an exception. \n",
    "3. Create a function where you *raise* exceptions for different cases (it can be one or more). Why would you like to raise exceptions?"
   ]
  },
  {
   "cell_type": "code",
   "execution_count": 38,
   "id": "71d0c415",
   "metadata": {},
   "outputs": [
    {
     "name": "stdout",
     "output_type": "stream",
     "text": [
      "x/0 = dumbass\n",
      "hello\n"
     ]
    },
    {
     "ename": "TypeError",
     "evalue": "not an int",
     "output_type": "error",
     "traceback": [
      "\u001b[1;31m---------------------------------------------------------------------------\u001b[0m",
      "\u001b[1;31mTypeError\u001b[0m                                 Traceback (most recent call last)",
      "Cell \u001b[1;32mIn[38], line 15\u001b[0m\n\u001b[0;32m     13\u001b[0m         \u001b[38;5;28;01mraise\u001b[39;00m \u001b[38;5;167;01mTypeError\u001b[39;00m(\u001b[38;5;124m\"\u001b[39m\u001b[38;5;124mnot an int\u001b[39m\u001b[38;5;124m\"\u001b[39m)\n\u001b[0;32m     14\u001b[0m     \u001b[38;5;28;01mreturn\u001b[39;00m x\u001b[38;5;241m*\u001b[39m\u001b[38;5;241m*\u001b[39m\u001b[38;5;241m2\u001b[39m\n\u001b[1;32m---> 15\u001b[0m f(\u001b[38;5;241m1.2\u001b[39m)\n",
      "Cell \u001b[1;32mIn[38], line 13\u001b[0m, in \u001b[0;36mf\u001b[1;34m(x)\u001b[0m\n\u001b[0;32m     11\u001b[0m \u001b[38;5;28;01mdef\u001b[39;00m \u001b[38;5;21mf\u001b[39m(x):\n\u001b[0;32m     12\u001b[0m     \u001b[38;5;28;01mif\u001b[39;00m \u001b[38;5;129;01mnot\u001b[39;00m \u001b[38;5;28mtype\u001b[39m(x)\u001b[38;5;241m==\u001b[39m\u001b[38;5;28mint\u001b[39m:\n\u001b[1;32m---> 13\u001b[0m         \u001b[38;5;28;01mraise\u001b[39;00m \u001b[38;5;167;01mTypeError\u001b[39;00m(\u001b[38;5;124m\"\u001b[39m\u001b[38;5;124mnot an int\u001b[39m\u001b[38;5;124m\"\u001b[39m)\n\u001b[0;32m     14\u001b[0m     \u001b[38;5;28;01mreturn\u001b[39;00m x\u001b[38;5;241m*\u001b[39m\u001b[38;5;241m*\u001b[39m\u001b[38;5;241m2\u001b[39m\n",
      "\u001b[1;31mTypeError\u001b[0m: not an int"
     ]
    }
   ],
   "source": [
    "#1 catching exeptions tells us where we fucked up and it wont stop the code from running\n",
    "#2\n",
    "try:\n",
    "    print(1/0)\n",
    "except:\n",
    "    print(\"x/0 = dumbass\")\n",
    "print(\"hello\")\n",
    "#3 if i were to limit certain varibles bc big number takes ages to calculate etc\n",
    "# or i send the wrong type of object etc\n",
    "\n",
    "def f(x):\n",
    "    if not type(x)==int:\n",
    "        raise TypeError(\"not an int\")\n",
    "    return x**2\n",
    "f(1.2)"
   ]
  },
  {
   "cell_type": "markdown",
   "id": "7485f9a6",
   "metadata": {},
   "source": [
    "# Read PEP8 available at: https://peps.python.org/pep-0008/ . Give a short summary of some things that you should have in your \"fingertips\". For example, how should variables or classes be named? How should you write a comment?"
   ]
  },
  {
   "cell_type": "code",
   "execution_count": null,
   "id": "c03ca02b",
   "metadata": {},
   "outputs": [],
   "source": [
    "#A style guide is about consistency.\n",
    "#Consistency with this style guide is important.\n",
    "#Consistency within a project is more important.\n",
    "#Consistency within one module or function is the most important.\n",
    "\n",
    "#indentera så man märker skilland, låt det inte se klumpigt ut. styla, va läsbart o snyggt\n",
    "\n",
    "# Correct:\n",
    "\n",
    "# Aligned with opening delimiter.\n",
    "foo = long_function_name(var_one, var_two,\n",
    "                         var_three, var_four)\n",
    "\n",
    "# Add 4 spaces (an extra level of indentation) to distinguish arguments from the rest.\n",
    "def long_function_name(\n",
    "        var_one, var_two, var_three,\n",
    "        var_four):\n",
    "    print(var_one)\n",
    "\n",
    "# Hanging indents should add a level.\n",
    "foo = long_function_name(\n",
    "    var_one, var_two,\n",
    "    var_three, var_four)\n"
   ]
  }
 ],
 "metadata": {
  "kernelspec": {
   "display_name": "Python 3 (ipykernel)",
   "language": "python",
   "name": "python3"
  },
  "language_info": {
   "codemirror_mode": {
    "name": "ipython",
    "version": 3
   },
   "file_extension": ".py",
   "mimetype": "text/x-python",
   "name": "python",
   "nbconvert_exporter": "python",
   "pygments_lexer": "ipython3",
   "version": "3.11.4"
  }
 },
 "nbformat": 4,
 "nbformat_minor": 5
}
