{
 "cells": [
  {
   "cell_type": "markdown",
   "id": "dacf74e6",
   "metadata": {},
   "source": [
    "# NumPy"
   ]
  },
  {
   "cell_type": "markdown",
   "id": "01b2bf34",
   "metadata": {},
   "source": [
    "Read the links: https://numpy.org/doc/stable/user/quickstart.html  and https://numpy.org/doc/stable/user/basics.broadcasting.html  before solving the exercises. "
   ]
  },
  {
   "cell_type": "code",
   "execution_count": 4,
   "id": "1f79e4a6",
   "metadata": {},
   "outputs": [],
   "source": [
    "import numpy as np"
   ]
  },
  {
   "cell_type": "markdown",
   "id": "7dae6889",
   "metadata": {},
   "source": [
    "### Print out the dimension (number of axes), shape, size and the datatype of the matrix A."
   ]
  },
  {
   "cell_type": "code",
   "execution_count": 2,
   "id": "7b3678cd",
   "metadata": {},
   "outputs": [],
   "source": [
    "A = np.arange(1, 16).reshape(3,5)"
   ]
  },
  {
   "cell_type": "code",
   "execution_count": 6,
   "id": "31d39235",
   "metadata": {},
   "outputs": [
    {
     "name": "stdout",
     "output_type": "stream",
     "text": [
      "(3, 5)\n",
      "2\n",
      "15\n",
      "int32\n"
     ]
    }
   ],
   "source": [
    "print(A.shape)\n",
    "print(A.ndim)\n",
    "print(A.size)\n",
    "print(A.dtype)"
   ]
  },
  {
   "cell_type": "markdown",
   "id": "e56d2a96",
   "metadata": {},
   "source": [
    "### Do the following computations on the matrices B and C: \n",
    "* Elementwise subtraction. \n",
    "* Elementwise multiplication. \n",
    "* Matrix multiplication (by default you should use the @ operator)."
   ]
  },
  {
   "cell_type": "code",
   "execution_count": 7,
   "id": "a7053fbb",
   "metadata": {},
   "outputs": [
    {
     "name": "stdout",
     "output_type": "stream",
     "text": [
      "[[1 2 3]\n",
      " [4 5 6]\n",
      " [7 8 9]]\n",
      "\n",
      "[[2. 2. 2.]\n",
      " [2. 2. 2.]\n",
      " [2. 2. 2.]]\n"
     ]
    }
   ],
   "source": [
    "B = np.arange(1, 10).reshape(3, 3)\n",
    "C = np.ones((3, 3))*2\n",
    "\n",
    "print(B)\n",
    "print()\n",
    "print(C)"
   ]
  },
  {
   "cell_type": "code",
   "execution_count": 8,
   "id": "3cd794ae",
   "metadata": {},
   "outputs": [
    {
     "name": "stdout",
     "output_type": "stream",
     "text": [
      "[[-1.  0.  1.]\n",
      " [ 2.  3.  4.]\n",
      " [ 5.  6.  7.]]\n",
      "\n",
      "[[ 2.  4.  6.]\n",
      " [ 8. 10. 12.]\n",
      " [14. 16. 18.]]\n",
      "\n",
      "[[12. 12. 12.]\n",
      " [30. 30. 30.]\n",
      " [48. 48. 48.]]\n"
     ]
    }
   ],
   "source": [
    "print(B-C)\n",
    "print()\n",
    "print(B*C)\n",
    "print()\n",
    "print(B@C)"
   ]
  },
  {
   "cell_type": "markdown",
   "id": "96030d53",
   "metadata": {},
   "source": [
    "### Do the following calculations on the matrix:\n",
    "* Exponentiate each number elementwise (use the np.exp function).\n",
    "\n",
    "* Calculate the minimum value in the whole matrix. \n",
    "* Calculcate the minimum value in each row. \n",
    "* Calculcate the minimum value in each column. \n",
    "\n",
    "\n",
    "* Find the index value for the minimum value in the whole matrix (hint: use np.argmin).\n",
    "* Find the index value for the minimum value in each row (hint: use np.argmin).\n",
    "\n",
    "\n",
    "* Calculate the sum for all elements.\n",
    "* Calculate the mean for each column. \n",
    "* Calculate the median for each column. "
   ]
  },
  {
   "cell_type": "code",
   "execution_count": 15,
   "id": "f8a9166b",
   "metadata": {},
   "outputs": [
    {
     "name": "stdout",
     "output_type": "stream",
     "text": [
      "[[1 2 3]\n",
      " [4 5 6]\n",
      " [7 8 9]]\n"
     ]
    }
   ],
   "source": [
    "B = np.arange(1, 10).reshape(3, 3)\n",
    "print(B)"
   ]
  },
  {
   "cell_type": "code",
   "execution_count": 53,
   "id": "f03f24f7",
   "metadata": {},
   "outputs": [
    {
     "name": "stdout",
     "output_type": "stream",
     "text": [
      "[[1 2 3]\n",
      " [4 5 6]\n",
      " [7 8 9]]\n",
      "[[2.71828183e+00 7.38905610e+00 2.00855369e+01]\n",
      " [5.45981500e+01 1.48413159e+02 4.03428793e+02]\n",
      " [1.09663316e+03 2.98095799e+03 8.10308393e+03]]\n",
      "1\n",
      "[1 4 7]\n",
      "[1 2 3]\n",
      "0\n",
      "[[0]\n",
      " [0]\n",
      " [0]]\n",
      "45\n",
      "5.0\n",
      "5.0\n"
     ]
    }
   ],
   "source": [
    "print(B)\n",
    "print(np.exp(B))\n",
    "print(B.min())  #all\n",
    "print(B.min(1)) #row\n",
    "print(B.min(0)) #col\n",
    "print(np.argmin(B)) #first index (min v = 1 :: 0)\n",
    "print(np.argmin(B,axis = 1,keepdims = True)) #första elementet i varje rad, ie 0,0 1,0 2,0\n",
    "print(B.sum()) #summering, int\n",
    "print(B.mean()) # 45 / 9 = 5, float\n",
    "print(np.median(B))\n"
   ]
  },
  {
   "cell_type": "markdown",
   "id": "541eb7ba",
   "metadata": {},
   "source": [
    "### What does it mean when you provide fewer indices than axes when slicing? See example below."
   ]
  },
  {
   "cell_type": "code",
   "execution_count": 54,
   "id": "9c8abf56",
   "metadata": {},
   "outputs": [
    {
     "name": "stdout",
     "output_type": "stream",
     "text": [
      "[[ 1  2  3  4  5]\n",
      " [ 6  7  8  9 10]\n",
      " [11 12 13 14 15]]\n"
     ]
    }
   ],
   "source": [
    "print(A)"
   ]
  },
  {
   "cell_type": "code",
   "execution_count": 55,
   "id": "69415f7b",
   "metadata": {},
   "outputs": [
    {
     "data": {
      "text/plain": [
       "array([ 6,  7,  8,  9, 10])"
      ]
     },
     "execution_count": 55,
     "metadata": {},
     "output_type": "execute_result"
    }
   ],
   "source": [
    "A[1]"
   ]
  },
  {
   "cell_type": "markdown",
   "id": "6c53541b",
   "metadata": {},
   "source": [
    "**Answer:**"
   ]
  },
  {
   "cell_type": "code",
   "execution_count": 57,
   "id": "de01e120",
   "metadata": {},
   "outputs": [
    {
     "name": "stdout",
     "output_type": "stream",
     "text": [
      "<class 'numpy.ndarray'>\n",
      "<class 'numpy.int32'>\n"
     ]
    }
   ],
   "source": [
    "# du får raden och alla element i raden, ie [0],[0] ; första raden och första elementet. [0] första raden\n",
    "# [1] = andra raden\n",
    "print(type(A[1])) # en array ; alla nummer i raden\n",
    "print(type(A[1][1]))# int32 ; en int i arrayen [1]\n"
   ]
  },
  {
   "cell_type": "markdown",
   "id": "6652d0c9",
   "metadata": {},
   "source": [
    "### Iterating over multidimensional arrays is done with respect to the first axis, so in the example below we iterate trough the rows. If you would like to iterate through the array *elementwise*, how would you do that?"
   ]
  },
  {
   "cell_type": "code",
   "execution_count": 58,
   "id": "9459864f",
   "metadata": {},
   "outputs": [
    {
     "data": {
      "text/plain": [
       "array([[ 1,  2,  3,  4,  5],\n",
       "       [ 6,  7,  8,  9, 10],\n",
       "       [11, 12, 13, 14, 15]])"
      ]
     },
     "execution_count": 58,
     "metadata": {},
     "output_type": "execute_result"
    }
   ],
   "source": [
    "A"
   ]
  },
  {
   "cell_type": "code",
   "execution_count": 75,
   "id": "a671bb5a",
   "metadata": {},
   "outputs": [
    {
     "name": "stdout",
     "output_type": "stream",
     "text": [
      "[1 2 3 4 5]\n",
      "[ 6  7  8  9 10]\n",
      "[11 12 13 14 15]\n",
      "2\n",
      "3\n"
     ]
    }
   ],
   "source": [
    "for i in A:\n",
    "    print(i)\n",
    "    \n",
    "print(A[0][1])\n",
    "print(len(A))"
   ]
  },
  {
   "cell_type": "code",
   "execution_count": 90,
   "id": "f4e443a0",
   "metadata": {},
   "outputs": [
    {
     "name": "stdout",
     "output_type": "stream",
     "text": [
      "1\n",
      "2\n",
      "3\n",
      "6\n",
      "7\n",
      "8\n",
      "11\n",
      "12\n",
      "13\n",
      "\n",
      "5\n"
     ]
    }
   ],
   "source": [
    "for i in A:\n",
    "    for j in range(len(A)):\n",
    "        print(i[j]) #i = rad, index 0-2: j räknar från 0 till antal element i rad i \"(len(A))\"\n",
    "        \n",
    "print()\n",
    "print(len(A[1])) #antal element i andra raden\n",
    "\n",
    "        "
   ]
  },
  {
   "cell_type": "markdown",
   "id": "608a2583",
   "metadata": {},
   "source": [
    "### Explain what the code below does. More specifically, b has three axes - what does this mean? "
   ]
  },
  {
   "cell_type": "code",
   "execution_count": 91,
   "id": "f8f9b26f",
   "metadata": {},
   "outputs": [
    {
     "name": "stdout",
     "output_type": "stream",
     "text": [
      "[ 0  1  2  3  4  5  6  7  8  9 10 11 12 13 14 15 16 17 18 19 20 21 22 23\n",
      " 24 25 26 27 28 29]\n",
      "\n",
      "[[[ 0  1  2  3  4]\n",
      "  [ 5  6  7  8  9]\n",
      "  [10 11 12 13 14]]\n",
      "\n",
      " [[15 16 17 18 19]\n",
      "  [20 21 22 23 24]\n",
      "  [25 26 27 28 29]]]\n"
     ]
    }
   ],
   "source": [
    "a = np.arange(30)\n",
    "b = a.reshape((2, 3, -1))\n",
    "print(a)\n",
    "print()\n",
    "\n",
    "print(b)"
   ]
  },
  {
   "cell_type": "code",
   "execution_count": 122,
   "id": "863a45df",
   "metadata": {},
   "outputs": [
    {
     "name": "stdout",
     "output_type": "stream",
     "text": [
      "<class 'numpy.ndarray'>\n",
      "[[[ 0  1  2  3  4]\n",
      "  [ 5  6  7  8  9]\n",
      "  [10 11 12 13 14]]\n",
      "\n",
      " [[15 16 17 18 19]\n",
      "  [20 21 22 23 24]\n",
      "  [25 26 27 28 29]]]\n",
      "\n",
      "[[[ 0  1]\n",
      "  [ 2  3]\n",
      "  [ 4  5]]\n",
      "\n",
      " [[ 6  7]\n",
      "  [ 8  9]\n",
      "  [10 11]]\n",
      "\n",
      " [[12 13]\n",
      "  [14 15]\n",
      "  [16 17]]\n",
      "\n",
      " [[18 19]\n",
      "  [20 21]\n",
      "  [22 23]]\n",
      "\n",
      " [[24 25]\n",
      "  [26 27]\n",
      "  [28 29]]]\n"
     ]
    }
   ],
   "source": [
    "print(type(a)) # är en array med bara en rad\n",
    "#reshape ändrar dimensioner men inte datan\n",
    "\n",
    "print(b) # 2st 3x5 matriser\n",
    "\n",
    "c = np.arange(30)\n",
    "d = c.reshape((-1, 3, 2)) # -1 betyder vad som än behövs men kan bara avändas en gång, 3 rader, 2 columnet ,-1 = 5 matriser\n",
    "# 3 dimensionel matris\n",
    "print()\n",
    "\n",
    "print(d)"
   ]
  },
  {
   "cell_type": "markdown",
   "id": "ab5933d5",
   "metadata": {},
   "source": [
    "### Broadcasting\n",
    "**Read the following link about broadcasting: https://numpy.org/doc/stable/user/basics.broadcasting.html#basics-broadcasting**"
   ]
  },
  {
   "cell_type": "markdown",
   "id": "039805ba",
   "metadata": {},
   "source": [
    "# Remark on Broadcasting when doing Linear Algebra calculations in Python. "
   ]
  },
  {
   "cell_type": "markdown",
   "id": "c4bcc147",
   "metadata": {},
   "source": [
    "### From the mathematical rules of matrix addition, the operation below (m1 + m2) does not make sense. The reason is that matrix addition requires two matrices of the same size. In Python however, it works due to broadcasting rules in NumPy. So you must be careful when doing Linear Algebra calculations in Python since they do not follow the \"mathematical rules\". This can however easily be handled by doing some simple programming, for example validating that two matrices have the same shape is easy if you for instance want to add two matrices. "
   ]
  },
  {
   "cell_type": "code",
   "execution_count": 123,
   "id": "1fd46778",
   "metadata": {},
   "outputs": [
    {
     "name": "stdout",
     "output_type": "stream",
     "text": [
      "[[2 3]\n",
      " [4 5]]\n"
     ]
    }
   ],
   "source": [
    "m1 = np.array([[1, 2], [3, 4]])\n",
    "m2 = np.array([1, 1])\n",
    "print(m1 + m2)"
   ]
  },
  {
   "cell_type": "markdown",
   "id": "047d6576",
   "metadata": {},
   "source": [
    "### The example below would also not be allowed if following the \"mathematical rules\" in Linear Algebra. But it works due to broadcasting in NumPy. "
   ]
  },
  {
   "cell_type": "code",
   "execution_count": 124,
   "id": "5e6ef2e4",
   "metadata": {},
   "outputs": [
    {
     "name": "stdout",
     "output_type": "stream",
     "text": [
      "[2 3 4]\n"
     ]
    }
   ],
   "source": [
    "v1 = np.array([1, 2, 3])\n",
    "print(v1 + 1)"
   ]
  },
  {
   "cell_type": "code",
   "execution_count": 125,
   "id": "e2cbae26",
   "metadata": {},
   "outputs": [
    {
     "name": "stdout",
     "output_type": "stream",
     "text": [
      "[[1 2]\n",
      " [3 4]]\n",
      "[2 2]\n"
     ]
    }
   ],
   "source": [
    "A = np.arange(1, 5).reshape(2,2)\n",
    "print(A)\n",
    "\n",
    "b = np.array([2, 2])\n",
    "print(b)"
   ]
  },
  {
   "cell_type": "markdown",
   "id": "722fd5cd",
   "metadata": {},
   "source": [
    "# Linear Algebra Exercises"
   ]
  },
  {
   "cell_type": "markdown",
   "id": "b8935099",
   "metadata": {},
   "source": [
    "The exercies are taken from the \"Matrix Algebra for Engineers\" by Chasnov: https://www.math.hkust.edu.hk/~machas/matrix-algebra-for-engineers.pdf .\n",
    "\n",
    "Do the following exercises: \n",
    "* Chapter 2, exercise 1-3.\n",
    "* Quiz on p.11, exercise 2. \n",
    "* Chapter 6, exercise 1. \n",
    "* Quiz on p.19, exercise 3. \n",
    "\n",
    "\n",
    "* Chapter 10, exercise 1. \n",
    "* Chapter 12 exercise 1. \n"
   ]
  },
  {
   "cell_type": "code",
   "execution_count": 5,
   "id": "a452a77a",
   "metadata": {},
   "outputs": [
    {
     "name": "stdout",
     "output_type": "stream",
     "text": [
      "[[ 2  1 -1]\n",
      " [ 1 -1  1]]\n",
      "[[ 4 -2  1]\n",
      " [ 2 -4 -2]]\n",
      "[[1 2]\n",
      " [2 1]]\n",
      "[[3 4]\n",
      " [4 3]]\n",
      "[[1]\n",
      " [2]]\n",
      "True\n",
      "False\n",
      "(2, 3)\n",
      "2\n",
      "(2, 2)\n",
      "(2, 1)\n"
     ]
    }
   ],
   "source": [
    "A = np.array([[2, 1, -1], [1, -1, 1]])\n",
    "B = np.array([[4, -2, 1], [2, -4, -2]])\n",
    "\n",
    "C = np.array([[1, 2], [2, 1]])\n",
    "D = np.array([[3, 4], [4, 3]])\n",
    "\n",
    "E = np.array([[1], [2]])\n",
    "\n",
    "print(A)\n",
    "print(B)\n",
    "print(C)\n",
    "print(D)\n",
    "print(E)\n",
    "#tester\n",
    "temp = 1\n",
    "print(isinstance(A,np.ndarray))\n",
    "print(isinstance(temp,np.ndarray))\n",
    "print(A.shape)\n",
    "print(A.shape[0])\n",
    "print(C.shape)\n",
    "print(E.shape)\n",
    "\n",
    "\n",
    "\n"
   ]
  },
  {
   "cell_type": "code",
   "execution_count": 22,
   "id": "0d510559",
   "metadata": {},
   "outputs": [
    {
     "name": "stdout",
     "output_type": "stream",
     "text": [
      "<class 'numpy.ndarray'>\n",
      "True\n",
      "True\n",
      "coolt\n",
      "false\n"
     ]
    }
   ],
   "source": [
    "print(type(A))\n",
    "print(isinstance(A,np.ndarray))\n",
    "x = isinstance(A,np.ndarray) # returns false, x = false\n",
    "print(x)# skiver false\n",
    "\n",
    "if x == True:\n",
    "    print(\"coolt\")\n",
    "else:\n",
    "    print(\"inte coolt\")\n",
    "    \n",
    "def temp123(a):\n",
    "    \"\"\"\n",
    "    kolla om a och b är en ndarray/matris\n",
    "    om inte, gör ej kalkulering\n",
    "    \"\"\"\n",
    "    x = isinstance(a,np.ndarray)\n",
    "    if x == False:\n",
    "        return (\"false\")\n",
    "    elif x == True:\n",
    "        \n",
    "        return (1+1)\n",
    "            \n",
    "print(temp123(2))  "
   ]
  },
  {
   "cell_type": "markdown",
   "id": "9d8366cc",
   "metadata": {},
   "source": [
    "**Chap2. Question 1.**\n",
    "\n",
    "**Write a function \"add_mult_matrices\" that takes two matrices as input arguments (validate that the input are of the type numpy.ndarray by using the isinstance function), a third argument that is either 'add' or 'multiply' that specifies if you want to add or multiply the matrices (validate that the third argument is either 'add' or 'multiply'). When doing matrix addition, validate that the matrices have the same size. When doing matrix multiplication, validate that the sizes conform (i.e. number of columns in the first matrix is equal to the number of rows in the second matrix).**\n",
    "\n",
    "In this exercise, create a function that takes two matrices as input and either adds or multiplies them by specifying a argument as either 'add' or 'multiply'. Validate that both matrices taken as input are of the type ndarray (use the isinstance function)."
   ]
  },
  {
   "cell_type": "code",
   "execution_count": 173,
   "id": "535ee48c",
   "metadata": {},
   "outputs": [
    {
     "name": "stdout",
     "output_type": "stream",
     "text": [
      "[[ 2  1 -1]\n",
      " [ 1 -1  1]]\n",
      "[[ 4 -2  1]\n",
      " [ 2 -4 -2]]\n",
      "\n",
      "[[ 6 -1  0]\n",
      " [ 3 -5 -1]]\n",
      "\n",
      "matrix a colums is not equal to matrix b rows\n",
      "None\n",
      "\n",
      "[[5]\n",
      " [4]]\n",
      "\n",
      "[[ 0 -4  3]\n",
      " [ 0 -2 -4]]\n",
      "\n",
      "dimensions are not equal\n",
      "None\n",
      "\n",
      "matrix a colums is not equal to matrix b rows\n",
      "None\n",
      "(2, 3) (2, 2)\n",
      "\n",
      "[[11 10]\n",
      " [10 11]]\n",
      "\n",
      "[[  8 -10  -3]\n",
      " [ 10  -8   0]]\n"
     ]
    }
   ],
   "source": [
    "def add_mult_matrices(a,b,add_or_multiply):\n",
    "    check_a = isinstance(a,np.ndarray)\n",
    "    check_b = isinstance(b,np.ndarray)\n",
    "    if check_a == False:\n",
    "        return print(\"a is not a matrix\")\n",
    "    if check_b == False:\n",
    "        return print(\"b is not a matrix\")\n",
    "    \n",
    "    if add_or_multiply == \"add\":\n",
    "        if a.shape == b.shape:\n",
    "            return a+b\n",
    "        else:\n",
    "            return print(\"dimensions are not equal\")\n",
    "    elif add_or_multiply == \"multiply\":\n",
    "        if a.shape[1] == b.shape[0]:\n",
    "            return a@b\n",
    "        else:\n",
    "            return print(\"matrix a colums is not equal to matrix b rows\")\n",
    "        \n",
    "print(A)\n",
    "print(B)\n",
    "print()\n",
    "print(add_mult_matrices(A,B,\"add\"))\n",
    "print()\n",
    "print(add_mult_matrices(A,B,\"multiply\"))\n",
    "print()\n",
    "print(add_mult_matrices(C,E,\"multiply\"))\n",
    "print()\n",
    "# Compute if defined: B − 2A, 3C − E, AC, CD, CB.\n",
    "print(add_mult_matrices(B,-A*2,\"add\"))\n",
    "print()\n",
    "print(add_mult_matrices(C*3,-E,\"add\"))\n",
    "print()\n",
    "print(add_mult_matrices(A,C,\"multiply\"))\n",
    "print(A.shape,C.shape)\n",
    "print()\n",
    "print(add_mult_matrices(C,D,\"multiply\"))\n",
    "print()\n",
    "print(add_mult_matrices(C,B,\"multiply\"))\n"
   ]
  },
  {
   "cell_type": "markdown",
   "id": "5000c829",
   "metadata": {},
   "source": [
    "**Chap2. Question 2**"
   ]
  },
  {
   "cell_type": "code",
   "execution_count": 184,
   "id": "44dab740",
   "metadata": {},
   "outputs": [
    {
     "name": "stdout",
     "output_type": "stream",
     "text": [
      "[[1 2]\n",
      " [2 4]]\n",
      "[[2 1]\n",
      " [1 3]]\n",
      "[[4 3]\n",
      " [0 2]]\n",
      "[[ 4  7]\n",
      " [ 8 14]]\n",
      "=\n",
      "[[ 4  7]\n",
      " [ 8 14]]\n",
      "\n",
      "[[2 1]\n",
      " [1 3]] =/= [[4 3]\n",
      " [0 2]]\n"
     ]
    }
   ],
   "source": [
    "A2 = np.array([[1, 2], [2, 4]])\n",
    "B2 = np.array([[2, 1], [1, 3]])\n",
    "C2 = np.array([[4, 3], [0, 2]])\n",
    "print(A2)\n",
    "print(B2)\n",
    "print(C2)\n",
    "ad2 = add_mult_matrices(A2,B2,\"multiply\")\n",
    "ac2 = add_mult_matrices(A2,C2,\"multiply\")\n",
    "print(ad2)\n",
    "print(\"=\")\n",
    "print(ac2)\n",
    "print()\n",
    "print(B2, \"=/=\", C2)"
   ]
  },
  {
   "cell_type": "markdown",
   "id": "a7f5b140",
   "metadata": {},
   "source": [
    "**Chap2. Question 3**"
   ]
  },
  {
   "cell_type": "code",
   "execution_count": 187,
   "id": "668b1323",
   "metadata": {},
   "outputs": [
    {
     "name": "stdout",
     "output_type": "stream",
     "text": [
      "[[1 1 1]\n",
      " [1 2 3]\n",
      " [1 3 4]]\n",
      "\n",
      "[[2 0 0]\n",
      " [0 3 0]\n",
      " [0 0 4]]\n",
      "\n",
      "[[ 2  3  4]\n",
      " [ 2  6 12]\n",
      " [ 2  9 16]]\n",
      "\n",
      "[[ 2  2  2]\n",
      " [ 3  6  9]\n",
      " [ 4 12 16]]\n"
     ]
    }
   ],
   "source": [
    "a23 = np.array([[1,1,1],[1,2,3],[1,3,4]])\n",
    "d23 = np.array([[2,0,0],[0,3,0],[0,0,4]])\n",
    "print(a23)\n",
    "print()\n",
    "print(d23)\n",
    "print()\n",
    "print(add_mult_matrices(a23,d23,\"multiply\"))\n",
    "print()\n",
    "print(add_mult_matrices(d23,a23,\"multiply\"))"
   ]
  },
  {
   "cell_type": "markdown",
   "id": "334ca623",
   "metadata": {},
   "source": [
    "**Quiz p.11, Question 2**"
   ]
  },
  {
   "cell_type": "code",
   "execution_count": 201,
   "id": "b031a786",
   "metadata": {},
   "outputs": [
    {
     "name": "stdout",
     "output_type": "stream",
     "text": [
      "[[1 2 3]\n",
      " [4 5 6]\n",
      " [7 8 9]]\n",
      "\n",
      "[[1 4 7]\n",
      " [2 5 8]\n",
      " [3 6 9]]\n",
      "\n",
      "[[ 2  6 10]\n",
      " [ 6 10 14]\n",
      " [10 14 18]]\n",
      "\n",
      "[[ 14  32  50]\n",
      " [ 32  77 122]\n",
      " [ 50 122 194]]\n",
      "\n",
      "[[ 0 -2 -4]\n",
      " [ 2  0 -2]\n",
      " [ 4  2  0]]\n",
      "^skewed symmetric\n",
      "\n",
      "[[ 66  78  90]\n",
      " [ 78  93 108]\n",
      " [ 90 108 126]]\n"
     ]
    }
   ],
   "source": [
    "a112 = np.arange(1, 10).reshape(3,3)\n",
    "print(a112)\n",
    "print()\n",
    "print(a112.transpose())\n",
    "print()\n",
    "print(add_mult_matrices(a112,a112.transpose(),\"add\"))\n",
    "print()\n",
    "print(add_mult_matrices(a112,a112.transpose(),\"multiply\"))\n",
    "print()\n",
    "print(add_mult_matrices(a112,-a112.transpose(),\"add\"))\n",
    "print(\"^skewed symmetric\")\n",
    "print()\n",
    "print(add_mult_matrices(a112.transpose(),a112,\"multiply\"))"
   ]
  },
  {
   "cell_type": "markdown",
   "id": "fbfb4124",
   "metadata": {},
   "source": [
    "**Chap 6. Question 1**"
   ]
  },
  {
   "cell_type": "code",
   "execution_count": 207,
   "id": "9c68d160",
   "metadata": {},
   "outputs": [
    {
     "name": "stdout",
     "output_type": "stream",
     "text": [
      "[[5 6]\n",
      " [4 5]]\n",
      "[[6 4]\n",
      " [3 3]]\n",
      "\n",
      "[[ 5. -6.]\n",
      " [-4.  5.]]\n",
      "\n",
      "[[ 0.5        -0.66666667]\n",
      " [-0.5         1.        ]]\n"
     ]
    }
   ],
   "source": [
    "a61 = np.array([[5,6],[4,5]])\n",
    "b61 = np.array([[6,4],[3,3]])\n",
    "print(a61)\n",
    "print(b61)\n",
    "print()\n",
    "print(np.linalg.inv(a61)) #scipy har liknande algo\n",
    "print()\n",
    "print(np.linalg.inv(b61))"
   ]
  },
  {
   "cell_type": "markdown",
   "id": "574b6d18",
   "metadata": {},
   "source": [
    "**Quiz p.19, Question 3**"
   ]
  },
  {
   "cell_type": "code",
   "execution_count": 210,
   "id": "c4cc11eb",
   "metadata": {},
   "outputs": [
    {
     "name": "stdout",
     "output_type": "stream",
     "text": [
      "[[ 3 -7 -2]\n",
      " [-3  5  1]\n",
      " [ 6 -4  0]]\n",
      "\n",
      "[[ 0.66666667  1.33333333  0.5       ]\n",
      " [ 1.          2.          0.5       ]\n",
      " [-3.         -5.         -1.        ]]\n"
     ]
    }
   ],
   "source": [
    "#obs page.19 quiz finnes ej, gjorde p.32 quiz question 3\n",
    "q3 = np.array([[3,-7,-2],[-3,5,1],[6,-4,0]])\n",
    "print(q3)\n",
    "print()\n",
    "print(np.linalg.inv(q3))\n",
    "print(\"svar : d\")"
   ]
  },
  {
   "cell_type": "markdown",
   "id": "5de93779",
   "metadata": {},
   "source": [
    "**Chap10. Question 1 a)**"
   ]
  },
  {
   "cell_type": "code",
   "execution_count": 220,
   "id": "e9a63544",
   "metadata": {},
   "outputs": [
    {
     "name": "stdout",
     "output_type": "stream",
     "text": [
      "3x1 − 7x2 − 2x3 = −7\n",
      "−3x1 + 5x2 + x3 = 5\n",
      "6x1 − 4x2 = 2\n",
      "[[ 3 -7 -2]\n",
      " [-3  5  1]\n",
      " [ 6 -4  0]]\n",
      "[[-7]\n",
      " [ 5]\n",
      " [ 2]]\n",
      "[[ 3 -7 -2 -7]\n",
      " [-3  5  1  5]\n",
      " [ 6 -4  0  2]]\n",
      "\n",
      "[[ 3.]\n",
      " [ 4.]\n",
      " [-6.]]\n",
      "\n",
      "True\n"
     ]
    }
   ],
   "source": [
    "print(\"3x1 − 7x2 − 2x3 = −7\")\n",
    "print(\"−3x1 + 5x2 + x3 = 5\")\n",
    "print(\"6x1 − 4x2 = 2\")\n",
    "a101a = np.array([[3,-7,-2],[-3,5,1],[6,-4,0]])\n",
    "a101x = np.array([[-7],[5],[2]])\n",
    "print(a101a)\n",
    "print(a101x)\n",
    "a101ax = np.concatenate((a101a,a101x),axis = 1) #lägger till andra matrisen vid columner, axis = 1 ; columner\n",
    "print(a101ax) #behövdes tydligen inte men coolt\n",
    "print()\n",
    "svar10a=np.linalg.solve(a101a, a101x)\n",
    "print(svar10a)\n",
    "print()\n",
    "print(np.allclose(np.dot(a101a, svar10a), a101x))#svar kontroll"
   ]
  },
  {
   "cell_type": "markdown",
   "id": "3f49e9e1",
   "metadata": {},
   "source": [
    "**Chap10. Question 1 b)**"
   ]
  },
  {
   "cell_type": "code",
   "execution_count": 221,
   "id": "6f6e72fb",
   "metadata": {},
   "outputs": [
    {
     "name": "stdout",
     "output_type": "stream",
     "text": [
      "[[ 1 -2  3]\n",
      " [-1  3 -1]\n",
      " [ 2 -5  5]]\n",
      "\n",
      "[[ 1]\n",
      " [-1]\n",
      " [ 1]]\n",
      "\n",
      "[[ 8.]\n",
      " [ 2.]\n",
      " [-1.]]\n",
      "True\n"
     ]
    }
   ],
   "source": [
    "b101a = np.array([[1,-2,3],[-1,3,-1],[2,-5,5]])\n",
    "b101x = np.array([[1],[-1],[1]])\n",
    "\n",
    "print(b101a)\n",
    "print()\n",
    "print(b101x)\n",
    "print()\n",
    "svar10b=np.linalg.solve(b101a, b101x)\n",
    "print(svar10b)\n",
    "print(np.allclose(np.dot(b101a, svar10b), b101x))#svar kontroll"
   ]
  },
  {
   "cell_type": "markdown",
   "id": "beb0a8af",
   "metadata": {},
   "source": [
    "**Chap 12. Question 1**"
   ]
  },
  {
   "cell_type": "code",
   "execution_count": 222,
   "id": "4fe15c46",
   "metadata": {},
   "outputs": [
    {
     "name": "stdout",
     "output_type": "stream",
     "text": [
      "[[ 0.66666667  1.33333333  0.5       ]\n",
      " [ 1.          2.          0.5       ]\n",
      " [-3.         -5.         -1.        ]]\n"
     ]
    }
   ],
   "source": [
    "a121 = np.array([[3,-7,-2],[-3,5,1],[6,-4,0]])\n",
    "print(np.linalg.inv(a121))"
   ]
  },
  {
   "cell_type": "markdown",
   "id": "6a4a524f",
   "metadata": {},
   "source": [
    "### Copies and Views\n",
    "Read the following link: https://numpy.org/doc/stable/user/basics.copies.html"
   ]
  },
  {
   "cell_type": "markdown",
   "id": "6cbbeaf7",
   "metadata": {},
   "source": [
    "**Basic indexing creates a view, How can you check if v1 and v2 is a view or copy? If you change the last element in v2 to 123, will the last element in v1 be changed? Why?**"
   ]
  },
  {
   "cell_type": "code",
   "execution_count": 223,
   "id": "5b9ef4df",
   "metadata": {},
   "outputs": [
    {
     "name": "stdout",
     "output_type": "stream",
     "text": [
      "[0 1 2 3]\n",
      "[2 3]\n"
     ]
    }
   ],
   "source": [
    "v1 = np.arange(4)\n",
    "v2 = v1[-2:]\n",
    "print(v1)\n",
    "print(v2)"
   ]
  },
  {
   "cell_type": "code",
   "execution_count": 224,
   "id": "d2440489",
   "metadata": {},
   "outputs": [
    {
     "name": "stdout",
     "output_type": "stream",
     "text": [
      "None\n",
      "[0 1 2 3]\n"
     ]
    }
   ],
   "source": [
    "# The base attribute of a view returns the original array while it returns None for a copy.\n",
    "print(v1.base)\n",
    "print(v2.base)"
   ]
  },
  {
   "cell_type": "code",
   "execution_count": 225,
   "id": "c8752807",
   "metadata": {},
   "outputs": [
    {
     "name": "stdout",
     "output_type": "stream",
     "text": [
      "[  0   1   2 123]\n",
      "[  2 123]\n"
     ]
    }
   ],
   "source": [
    "# The last element in v1 will be changed aswell since v2 is a view, meaning they share the same data buffer.\n",
    "v2[-1] = 123\n",
    "print(v1)\n",
    "print(v2)"
   ]
  },
  {
   "cell_type": "code",
   "execution_count": null,
   "id": "3dd68221",
   "metadata": {},
   "outputs": [],
   "source": [
    "#v1 =  contiguous data buffer with the actual data elements\n",
    "#v2 =  metadata that contains information about the data buffer. \n",
    "#The metadata includes data type, strides, and other important information that helps manipulate the ndarray easily\n",
    "#basic indexin skapar en view inte en kopia\n",
    "# i.e v2 = v1[-2:] gör v2 till en kopia då du indexar med [-2:]\n",
    "# note, Advanced indexing, on the other hand, always creates copies. ex y = x[[1, 2]]"
   ]
  }
 ],
 "metadata": {
  "kernelspec": {
   "display_name": "Python 3 (ipykernel)",
   "language": "python",
   "name": "python3"
  },
  "language_info": {
   "codemirror_mode": {
    "name": "ipython",
    "version": 3
   },
   "file_extension": ".py",
   "mimetype": "text/x-python",
   "name": "python",
   "nbconvert_exporter": "python",
   "pygments_lexer": "ipython3",
   "version": "3.11.4"
  }
 },
 "nbformat": 4,
 "nbformat_minor": 5
}
